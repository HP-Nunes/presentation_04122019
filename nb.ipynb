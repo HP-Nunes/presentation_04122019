{
 "cells": [
  {
   "cell_type": "markdown",
   "metadata": {
    "extensions": {
     "jupyter_dashboards": {
      "version": 1,
      "views": {
       "grid_default": {},
       "report_default": {
        "hidden": false
       }
      }
     }
    },
    "slideshow": {
     "slide_type": "slide"
    }
   },
   "source": [
    "<img src=\"img/csLogo.png\" alt=\"Drawing\" style=\"width: 300px;\"/>\n",
    "\n",
    "## Citizen Science Research Update\n",
    "### <a href =\"https://hpnunes.com/\">Hadrien N Picq</a>\n",
    "### April 12th, 2019"
   ]
  },
  {
   "cell_type": "markdown",
   "metadata": {
    "extensions": {
     "jupyter_dashboards": {
      "version": 1,
      "views": {
       "grid_default": {},
       "report_default": {
        "hidden": true
       }
      }
     }
    },
    "slideshow": {
     "slide_type": "slide"
    }
   },
   "source": [
    "## Agenda:\n",
    "\n",
    "###    1. Updates on the 'DIY Sensor Assembly Tutorial'\n",
    "###    2. Overview of 'Local Knowledge' and Discourse on Air Quality Amongst Poles on social media\n",
    "###    3. Notes about the Association of Environmental Professionals Conference\n",
    "###    4. Next Steps, and Setting Objectives for Next Month"
   ]
  },
  {
   "cell_type": "markdown",
   "metadata": {
    "slideshow": {
     "slide_type": "subslide"
    }
   },
   "source": [
    "## <center>Quick Status Update</center>\n",
    "<center><img src=\"https://media.giphy.com/media/Taw9SMB1am5EI/giphy.gif\" style=\"width: 400px;\"/></center>"
   ]
  },
  {
   "cell_type": "markdown",
   "metadata": {
    "slideshow": {
     "slide_type": "slide"
    }
   },
   "source": [
    "## <center>1. 'DIY Sensor Assembly Tutorial'</center>"
   ]
  },
  {
   "cell_type": "markdown",
   "metadata": {
    "slideshow": {
     "slide_type": "fragment"
    }
   },
   "source": [
    "#### <center>A few weeks marked by Troubleshooting & 'Scope Creep'<center>"
   ]
  },
  {
   "cell_type": "markdown",
   "metadata": {
    "slideshow": {
     "slide_type": "subslide"
    }
   },
   "source": [
    "# <center>Status of the Tutorial</center>\n",
    "\n",
    "### A Process In 5 Steps:"
   ]
  },
  {
   "cell_type": "markdown",
   "metadata": {
    "slideshow": {
     "slide_type": "fragment"
    }
   },
   "source": [
    "#### <center>Task 0 - 1: Having all your tools and Configuring the Firmware</center>\n",
    "<center>Status: Content ready requiring minor edits</center>\n",
    "<center>Estimated time required: <span style=\"color:red\">15 mins max</span></center>\n",
    "\n",
    "   * Content Completed last month;\n",
    "   * Minor aesthetic touches;\n",
    "   * Need to add an updated image of \"female-to-female\" dupont cables;\n",
    "   * A Luftdaten's staff member reached out following a Tweet and updated the firmware configuration documention, which had my initial major struggle with the project; the updates to the documentation should make the process on Mac and Windows a lot smoother to replicate."
   ]
  },
  {
   "cell_type": "markdown",
   "metadata": {
    "slideshow": {
     "slide_type": "subslide"
    }
   },
   "source": [
    "#### <center>Task 2: Assembly Required</center>\n",
    "<center>Status: Not Ready, Needs Major Attention</center>\n",
    "<center>Estimated time required: <span style=\"color:red\">estimated at +4 hours; potentially a whole dedicated workday max</span></center>\n",
    "\n",
    "* Filmed every step the assembly--i.e. wiring--process, using a small tripod mounting my smartphone;\n",
    "* Photoshop drafts of labelled pictures showing the device's ports and how they are wired;\n",
    "* Current stage: editing the videos into GIFs. However I am running into a sizing issue which makes uploading the GIF not feasible due to lag;\n",
    "* Alternative to GIFs: slideshow of still images showing assembly progress."
   ]
  },
  {
   "cell_type": "markdown",
   "metadata": {
    "slideshow": {
     "slide_type": "subslide"
    }
   },
   "source": [
    "#### <center>Task 3: Get Connected</center>\n",
    "<center>Status: Nearly Complete</center>\n",
    "<center>Estimated time required: <span style=\"color:red\">2 hours max</span></center>\n",
    "\n",
    "* The bulk of my efforts editing the GIFs went into this phase as I was happening to be troubleshooting a lot on Madavi.de (i.e. verifying whether the sensor was collecting and sending data over Wi-Fi);\n",
    "* I filmed my own screen and made video edits documenting my progress. Had to overcome a learning curve (~1h) on how to use open-source video editing software;\n",
    "* Further learning figuring out the best/easiest method to convert video to GIFs;\n",
    "* Issues: are GIFs as effective as I'd like them to be versus video assets? Are my GIFs too long?\n",
    "* Further addition: make sure I have a thorough textual instructions in case the GIFs 'break'\n",
    "* Wi-Fi security protocol warning!!"
   ]
  },
  {
   "cell_type": "markdown",
   "metadata": {
    "slideshow": {
     "slide_type": "subslide"
    }
   },
   "source": [
    "#### <center>Task 4: Setting Up Your Sensor Outdoors</center>\n",
    "<center>Status: Not Started</center>\n",
    "<center>Estimated time required: <span style=\"color:red\">3 hours max + travel time to Mary's if needed</span></center>\n",
    "\n",
    "* All Luftdaten tutorials I've found just skip to the image of a sensor neatly installed outdoors. I think there can be a great deal of confusion and I'd like to document a simply way to set up the sensor to take outdoor measurements.\n",
    "* What to do with the PVC pipe? Raises further questions about the sensor assembly kit design [Matter of Further Discussion];\n",
    "* Thermometer wiring issue causes overheating of both the arduino board and the thermometer. "
   ]
  },
  {
   "cell_type": "markdown",
   "metadata": {
    "slideshow": {
     "slide_type": "fragment"
    }
   },
   "source": [
    "#### <center>Task 5 (final): Data & You</center>\n",
    "<center>Status: Not Started</center>\n",
    "<center>Estimated time required: <span style=\"color:red\">Up to a full workday</span></center>\n",
    "\n",
    "* Providing some solid, foundational advice on data analysis but also retrievability is important!\n",
    "* Intro to Luftdaten's platform;\n",
    "* Making sense of data & how it's empowering. Just because it's SCIENCE! doesn't mean it lends anything of value without some introspection."
   ]
  },
  {
   "cell_type": "markdown",
   "metadata": {
    "slideshow": {
     "slide_type": "subslide"
    }
   },
   "source": [
    "## <center>Overall Status: the tutorial is a little over half-way done</center>\n",
    "\n",
    "###    Troubleshooting connectivity ate a lot of time I could have used to move forward, and burned me out;\n",
    "###    Thermometer issue: planning to attend an Arduino project group on Monday;\n",
    "###    Most of the arduous stuff has been done; I need time editing and assembling everything into the tutorial;\n",
    "###    If I only spend the coming week on the tutorial alone, I can aim to get it done.\n",
    "###    Next Steps: Testing, Feedback, Validation"
   ]
  },
  {
   "cell_type": "markdown",
   "metadata": {
    "slideshow": {
     "slide_type": "slide"
    }
   },
   "source": [
    "## <center>2. 'Scraping Local Knowledge' in Poland</center>"
   ]
  },
  {
   "cell_type": "markdown",
   "metadata": {
    "slideshow": {
     "slide_type": "subslide"
    }
   },
   "source": [
    "<img src=\"img/smogWarsaw.jpg\" style=\"width: 900px;\"/>"
   ]
  },
  {
   "cell_type": "markdown",
   "metadata": {
    "slideshow": {
     "slide_type": "skip"
    }
   },
   "source": [
    "33 of the European Union’s 50 most polluted cities are in Poland\n",
    "\n",
    "Some 48,000 Poles are estimated to die annually from illnesses related to poor air quality.\n",
    "\n",
    "https://www.nytimes.com/2018/04/22/world/europe/poland-pollution.html"
   ]
  },
  {
   "cell_type": "code",
   "execution_count": 24,
   "metadata": {
    "slideshow": {
     "slide_type": "subslide"
    }
   },
   "outputs": [
    {
     "data": {
      "text/html": [
       "\n",
       "        <iframe\n",
       "            width=\"700\"\n",
       "            height=\"600\"\n",
       "            src=\"https://aqicn.org/map/poland/#@g/50.8751/17.4847/7z\"\n",
       "            frameborder=\"0\"\n",
       "            allowfullscreen\n",
       "        ></iframe>\n",
       "        "
      ],
      "text/plain": [
       "<IPython.lib.display.IFrame at 0x7f9200a81438>"
      ]
     },
     "execution_count": 24,
     "metadata": {},
     "output_type": "execute_result"
    }
   ],
   "source": [
    "from IPython.display import IFrame\n",
    "\n",
    "IFrame(src='https://aqicn.org/map/poland/#@g/50.8751/17.4847/7z', width=700, height=600)"
   ]
  },
  {
   "cell_type": "markdown",
   "metadata": {
    "slideshow": {
     "slide_type": "subslide"
    }
   },
   "source": [
    "### Objective: gather data from online public discourse about air quality, to have a better understanding of how to successfully implement the project\n",
    "\n",
    "#### Sites of Interests:\n",
    "* Google Trends\n",
    "* Nk.pl\n",
    "* Reddit\n",
    "* Twitter\n",
    "* Wykop"
   ]
  },
  {
   "cell_type": "markdown",
   "metadata": {
    "slideshow": {
     "slide_type": "subslide"
    }
   },
   "source": [
    "## Google Trends"
   ]
  },
  {
   "cell_type": "code",
   "execution_count": 27,
   "metadata": {
    "slideshow": {
     "slide_type": "fragment"
    }
   },
   "outputs": [
    {
     "data": {
      "text/html": [
       "\n",
       "        <iframe\n",
       "            width=\"800\"\n",
       "            height=\"400\"\n",
       "            src=\"img/poland_GTrends_TimeS.html\"\n",
       "            frameborder=\"0\"\n",
       "            allowfullscreen\n",
       "        ></iframe>\n",
       "        "
      ],
      "text/plain": [
       "<IPython.lib.display.IFrame at 0x7f9200a816d8>"
      ]
     },
     "execution_count": 27,
     "metadata": {},
     "output_type": "execute_result"
    }
   ],
   "source": [
    "from IPython.display import *\n",
    "\n",
    "IPython.display.IFrame(\"img/poland_GTrends_TimeS.html\", 800, 400)"
   ]
  },
  {
   "cell_type": "markdown",
   "metadata": {
    "slideshow": {
     "slide_type": "subslide"
    }
   },
   "source": [
    "## Nk.pl"
   ]
  },
  {
   "cell_type": "markdown",
   "metadata": {
    "slideshow": {
     "slide_type": "fragment"
    }
   },
   "source": [
    "<center><img src=\"img/nkDead.png\" style=\"width: 400px;\"/></center>"
   ]
  },
  {
   "cell_type": "markdown",
   "metadata": {
    "slideshow": {
     "slide_type": "subslide"
    }
   },
   "source": [
    "## Reddit\n",
    "\n",
    "<center><img src=\"img/rPolska.png\" style=\"width: 800px; height: 1000 px\"/></center>\n",
    "<center><a href='https://www.reddit.com/r/Polska/comments/b3gsrf/cze%C5%9B%C4%87_rpolska_i_need_your_help_researching_public/' target = _blank>link to thread</a></center>"
   ]
  },
  {
   "cell_type": "markdown",
   "metadata": {
    "slideshow": {
     "slide_type": "subslide"
    }
   },
   "source": [
    "#### Useful Advice:\n",
    "\n",
    "<img src=\"img/rResource.png\" style=\"width: 750px;\"/>\n",
    "<img src=\"img/rResource2.png\" style=\"width: 750px;\"/>\n",
    "<img src=\"img/rResource3.png\" style=\"width: 750px;\"/>\n",
    "<img src=\"img/rResource4.png\" style=\"width: 750px;\"/>"
   ]
  },
  {
   "cell_type": "markdown",
   "metadata": {
    "slideshow": {
     "slide_type": "subslide"
    }
   },
   "source": [
    "#### On the topic of pollution\n",
    "\n",
    "<img src=\"img/rCause.png\" style=\"width: 750px;\"/>\n",
    "<img src=\"img/rCause2.png\" style=\"width: 750px;\"/>\n",
    "<img src=\"img/rCause3.png\" style=\"width: 750px;\"/>\n",
    "<img src=\"img/rCause4.png\" style=\"width: 750px;\"/>"
   ]
  },
  {
   "cell_type": "markdown",
   "metadata": {
    "slideshow": {
     "slide_type": "subslide"
    }
   },
   "source": [
    "#### Some disagreements\n",
    "\n",
    "<img src=\"img/rDis.png\" style=\"width: 750px;\"/>\n",
    "<img src=\"img/rDis2.png\" style=\"width: 750px;\"/>"
   ]
  },
  {
   "cell_type": "markdown",
   "metadata": {
    "slideshow": {
     "slide_type": "subslide"
    }
   },
   "source": [
    "## Wykop"
   ]
  },
  {
   "cell_type": "markdown",
   "metadata": {
    "slideshow": {
     "slide_type": "fragment"
    }
   },
   "source": [
    "Scrape 7,000 posts mentioning 'smog' from 2019 - 2012 +\n",
    "\n",
    "Translating posts from Polish to English +\n",
    "\n",
    "Assembling & cleaning the dataset = My whole week\n",
    "\n",
    "<span style=\"color:red\">[Sentiment Analysis/WordCloud/TimeSeries of 'Terms of Interest'/Mapping locations with the most mentions]</span>"
   ]
  },
  {
   "cell_type": "code",
   "execution_count": 18,
   "metadata": {
    "slideshow": {
     "slide_type": "subslide"
    }
   },
   "outputs": [
    {
     "data": {
      "text/html": [
       "\n",
       "        <iframe\n",
       "            width=\"900\"\n",
       "            height=\"500\"\n",
       "            src=\"img/poland_WykopTrends.html\"\n",
       "            frameborder=\"0\"\n",
       "            allowfullscreen\n",
       "        ></iframe>\n",
       "        "
      ],
      "text/plain": [
       "<IPython.lib.display.IFrame at 0x7f9200a81128>"
      ]
     },
     "execution_count": 18,
     "metadata": {},
     "output_type": "execute_result"
    }
   ],
   "source": [
    "from IPython.display import *\n",
    "\n",
    "IPython.display.IFrame(\"img/poland_WykopTrends.html\", 900, 500)"
   ]
  },
  {
   "cell_type": "markdown",
   "metadata": {
    "slideshow": {
     "slide_type": "subslide"
    }
   },
   "source": [
    "## Twitter\n",
    "\n",
    "<img src=\"img/twitterTimeSeries.png\" style=\"width: 750px;\"/>"
   ]
  },
  {
   "cell_type": "markdown",
   "metadata": {
    "slideshow": {
     "slide_type": "subslide"
    }
   },
   "source": [
    "<img src=\"img/twird_modified.png\" style=\"width: 500px;\"/>"
   ]
  },
  {
   "cell_type": "markdown",
   "metadata": {
    "slideshow": {
     "slide_type": "subslide"
    }
   },
   "source": [
    "## <center>Overall Status: need a bit more time (one week) for data analysis</center>\n",
    "\n",
    "###    Locate cities most frequently mentioned (Krakow seems to be an obvious lead)\n",
    "###    I have a database of images that I collected from Wykop; what is being documented?\n",
    "###    What are people concretely saying about their local air quality: political grievances, ranting at neighbors etc.\n",
    "###     What can that tell us about engagement with local environmental impact, public participation, citizen science etc."
   ]
  },
  {
   "cell_type": "markdown",
   "metadata": {
    "slideshow": {
     "slide_type": "slide"
    }
   },
   "source": [
    "## <center>3. Comments about the Association of Environmental Professionals Conference</center>"
   ]
  },
  {
   "cell_type": "markdown",
   "metadata": {
    "slideshow": {
     "slide_type": "slide"
    }
   },
   "source": [
    "## <center>4. Next Steps</center>"
   ]
  },
  {
   "cell_type": "markdown",
   "metadata": {
    "slideshow": {
     "slide_type": "fragment"
    }
   },
   "source": [
    "### Prioritize the Tutorial: Maximum effort until completion"
   ]
  },
  {
   "cell_type": "markdown",
   "metadata": {
    "slideshow": {
     "slide_type": "fragment"
    }
   },
   "source": [
    "### Shift gear to the social-data analysis"
   ]
  },
  {
   "cell_type": "markdown",
   "metadata": {
    "slideshow": {
     "slide_type": "fragment"
    }
   },
   "source": [
    "### Local case-use? "
   ]
  },
  {
   "cell_type": "markdown",
   "metadata": {
    "slideshow": {
     "slide_type": "slide"
    }
   },
   "source": [
    "## <center> Thank you! Questions?</center>\n",
    "<center><img src=\"https://media.giphy.com/media/QBC5foQmcOkdq/giphy.gif\" style=\"width: 400px;\"/></center>"
   ]
  }
 ],
 "metadata": {
  "celltoolbar": "Slideshow",
  "extensions": {
   "jupyter_dashboards": {
    "activeView": "grid_default",
    "version": 1,
    "views": {
     "grid_default": {
      "cellMargin": 10,
      "defaultCellHeight": 20,
      "maxColumns": 12,
      "name": "grid",
      "type": "grid"
     },
     "report_default": {
      "name": "report",
      "type": "report"
     }
    }
   }
  },
  "kernelspec": {
   "display_name": "Python 3",
   "language": "python",
   "name": "python3"
  },
  "language_info": {
   "codemirror_mode": {
    "name": "ipython",
    "version": 3
   },
   "file_extension": ".py",
   "mimetype": "text/x-python",
   "name": "python",
   "nbconvert_exporter": "python",
   "pygments_lexer": "ipython3",
   "version": "3.6.5"
  }
 },
 "nbformat": 4,
 "nbformat_minor": 2
}
